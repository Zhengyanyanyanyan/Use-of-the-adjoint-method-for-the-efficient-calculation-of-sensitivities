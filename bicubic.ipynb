{
 "cells": [
  {
   "cell_type": "code",
   "execution_count": 9,
   "id": "ae1e044f",
   "metadata": {},
   "outputs": [
    {
     "name": "stdout",
     "output_type": "stream",
     "text": [
      "spline creation, forward/reverse sensitivity check\n",
      "adj error: 0 \n",
      "\n",
      "spline evaluation, forward/reverse sensitivity check\n",
      "adj error: -2.25514e-17 \n",
      "\n"
     ]
    }
   ],
   "source": [
    "import jax_spline as spline\n",
    "from jax_spline_test import *"
   ]
  },
  {
   "cell_type": "code",
   "execution_count": 507,
   "id": "76110f44",
   "metadata": {},
   "outputs": [],
   "source": [
    "import jax\n",
    "import jax.numpy as jnp\n",
    "import jax.random as random\n",
    "from jax import jvp, vjp\n",
    "import numpy as np\n",
    "jax.config.update(\"jax_enable_x64\", True)"
   ]
  },
  {
   "cell_type": "code",
   "execution_count": 500,
   "id": "2da29410",
   "metadata": {},
   "outputs": [],
   "source": [
    "N = 4\n",
    "s1 = jnp.linspace(0.0,1.0,N)  # spline points\n",
    "s2 = jnp.linspace(0.0,1.0,N)  # spline points\n",
    "key = random.key(123456789)\n",
    "\n",
    "key, sub = random.split(key); \n",
    "#x = jnp.array([[(3.0*s_1**2 - 2.0*s_1**3)*(3.0*s_2**2 - 2.0*s_2**3) for s_2 in s2] for s_1 in s1]) \n",
    "#x = jnp.outer((3.0*s1**2 - 2.0*s1**3),(3.0*s2**2 - 2.0*s2**3)) \n",
    "f = random.normal(sub,(N,N))"
   ]
  },
  {
   "cell_type": "code",
   "execution_count": 501,
   "id": "6aa74348",
   "metadata": {},
   "outputs": [
    {
     "data": {
      "text/plain": [
       "Array([[-0.92025661, -0.24530095,  0.04830577, -1.1242524 ],\n",
       "       [ 0.56743798, -0.11259252,  1.48550824, -1.30495303],\n",
       "       [-1.06828365, -0.03066559,  0.70936112, -0.37517106],\n",
       "       [ 0.20228566, -2.82956798,  1.96863616,  0.35150377]],      dtype=float64)"
      ]
     },
     "execution_count": 501,
     "metadata": {},
     "output_type": "execute_result"
    }
   ],
   "source": [
    "f"
   ]
  },
  {
   "cell_type": "code",
   "execution_count": 502,
   "id": "35e1e28a",
   "metadata": {},
   "outputs": [
    {
     "name": "stdout",
     "output_type": "stream",
     "text": [
      "3 1 -2.829567982139835\n"
     ]
    }
   ],
   "source": [
    "ss_1 = np.random.rand()  # uniform on (0,1)\n",
    "ss_2 = np.random.rand()  # uniform on (0,1)\n",
    "i = jnp.sum(jnp.where(s1<ss_1,1,0))\n",
    "j = jnp.sum(jnp.where(s2<ss_2,1,0))\n",
    "print(i,j,f[i][j])\n",
    "\n",
    "# assert 0<i and i<s1.size-1\n",
    "# assert 0<j and j<s2.size-1\n",
    "\n",
    "key, sub = random.split(key); f_d  = random.normal(sub,(N,N))\n",
    "key, sub = random.split(key); f_b  = random.normal(sub,(N,N))\n",
    "key, sub = random.split(key); fp_b = random.normal(sub,(N,N))"
   ]
  },
  {
   "cell_type": "code",
   "execution_count": 38,
   "id": "b5310a0f",
   "metadata": {},
   "outputs": [
    {
     "data": {
      "text/plain": [
       "Array([[-0.89510267,  1.40890145,  0.12466555,  0.125378  ],\n",
       "       [ 0.19611859, -1.86656033, -0.2046865 , -1.40192039],\n",
       "       [ 0.32809385, -0.43845637,  0.74564719,  1.14399845],\n",
       "       [-0.77933602,  0.39265631,  1.30420188,  0.39797021]],      dtype=float64)"
      ]
     },
     "execution_count": 38,
     "metadata": {},
     "output_type": "execute_result"
    }
   ],
   "source": [
    "f_b"
   ]
  },
  {
   "cell_type": "markdown",
   "id": "eedbbf8c",
   "metadata": {},
   "source": [
    "specific value check"
   ]
  },
  {
   "cell_type": "code",
   "execution_count": 488,
   "id": "d16c2d1c",
   "metadata": {},
   "outputs": [],
   "source": [
    "ss_1=(s1[2]+s1[3])/2\n",
    "ss_2=(s2[0]+s2[1])/2"
   ]
  },
  {
   "cell_type": "code",
   "execution_count": 40,
   "id": "fa1dc064",
   "metadata": {},
   "outputs": [
    {
     "data": {
      "text/plain": [
       "Array(0.03703704, dtype=float64)"
      ]
     },
     "execution_count": 40,
     "metadata": {},
     "output_type": "execute_result"
    }
   ],
   "source": [
    "(3.0*ss_1**2 - 2.0*ss_1**3)*(3.0*ss_2**2 - 2.0*ss_2**3)"
   ]
  },
  {
   "cell_type": "markdown",
   "id": "668fa8a3",
   "metadata": {},
   "source": [
    "# original combined evaluation"
   ]
  },
  {
   "cell_type": "markdown",
   "id": "605967c3",
   "metadata": {},
   "source": [
    "evaluate every point "
   ]
  },
  {
   "cell_type": "code",
   "execution_count": 57,
   "id": "680a2424",
   "metadata": {},
   "outputs": [],
   "source": [
    "def x_y(x,y,u,a,b):\n",
    "    u_a = jnp.zeros_like(y)\n",
    "    u_y_ = jnp.zeros_like(y)\n",
    "    u_x = jnp.zeros_like(u)\n",
    "    u_y = jnp.zeros_like(u)\n",
    "    u_xy = jnp.zeros_like(u)\n",
    "    #calculating derivatives\n",
    "    for j in range(y.size):        \n",
    "        u_y = u_y.at[:,j].set(spline.derivs(y,u[:,j]))\n",
    "    for i in range(x.size):\n",
    "        u_x = u_x.at[i,:].set(spline.derivs(x,u[i,:]))\n",
    "        u_xy = u_xy.at[i,:].set(spline.derivs(x,u_y[i,:]))\n",
    "    #splining by fixing y\n",
    "    for j in range(y.size):\n",
    "        u_a = u_a.at[j].set(spline.eval(x,u[j,:],u_x[j,:],a))\n",
    "        u_y_ = u_y_.at[j].set(spline.eval(x,u_y[j,:],u_xy[j,:],a))\n",
    "    #fixing x\n",
    "    u_ab = spline.eval(y,u_a,u_y_,b)\n",
    "    return u_ab"
   ]
  },
  {
   "cell_type": "code",
   "execution_count": 58,
   "id": "28db7ef5",
   "metadata": {},
   "outputs": [
    {
     "data": {
      "text/plain": [
       "Array(-1.10123204, dtype=float64)"
      ]
     },
     "execution_count": 58,
     "metadata": {},
     "output_type": "execute_result"
    }
   ],
   "source": [
    "x_y(s1,s2,f,ss_1,ss_2)"
   ]
  },
  {
   "cell_type": "code",
   "execution_count": 59,
   "id": "f989e55f",
   "metadata": {},
   "outputs": [],
   "source": [
    "def fun(u):\n",
    "    return x_y(s1,s2,u,ss_1,ss_2)"
   ]
  },
  {
   "cell_type": "code",
   "execution_count": 60,
   "id": "8886a30a",
   "metadata": {},
   "outputs": [
    {
     "name": "stdout",
     "output_type": "stream",
     "text": [
      "adj error: 1.11022e-16 \n",
      "\n"
     ]
    }
   ],
   "source": [
    "ff_b = np.random.rand() \n",
    "_, u_d = jvp(fun, (f,), (f_d,))\n",
    "_, u_barfunc = vjp(fun, f)\n",
    "u_bar = u_barfunc(ff_b)\n",
    "print('adj error: %g \\n' % (dp(u_bar[0],f_d)-dp(ff_b,u_d)))"
   ]
  },
  {
   "cell_type": "code",
   "execution_count": 61,
   "id": "7be72cce",
   "metadata": {},
   "outputs": [],
   "source": [
    "def y_x(x,y,u,a,b):\n",
    "    #fixing x\n",
    "    u_b = jnp.zeros_like(x)\n",
    "    u_x_ = jnp.zeros_like(x)\n",
    "    u_y = jnp.zeros_like(u)\n",
    "    u_x = jnp.zeros_like(u)\n",
    "    u_xy = jnp.zeros_like(u)\n",
    "    for i in range(x.size):\n",
    "        u_x = u_x.at[i,:].set(spline.derivs(x,u[i,:]))\n",
    "    for j in range(y.size):        \n",
    "        u_y = u_y.at[:,j].set(spline.derivs(y,u[:,j]))\n",
    "        u_xy = u_xy.at[:,j].set(spline.derivs(y,u_x[:,j]))\n",
    "    for i in range(x.size):\n",
    "        u_b = u_b.at[i].set(spline.eval(y,u[:,i],u_y[:,i],b))\n",
    "        u_x_ = u_x_.at[i].set(spline.eval(y,u_x[:,i],u_xy[:,i],b))\n",
    "    #fixing y\n",
    "    u_ab = spline.eval(x,u_b,u_x_,a)\n",
    "    return u_ab"
   ]
  },
  {
   "cell_type": "code",
   "execution_count": 62,
   "id": "aeb1a6a5",
   "metadata": {},
   "outputs": [
    {
     "data": {
      "text/plain": [
       "Array(-1.10123204, dtype=float64)"
      ]
     },
     "execution_count": 62,
     "metadata": {},
     "output_type": "execute_result"
    }
   ],
   "source": [
    "y_x(s1,s2,f,ss_1,ss_2)"
   ]
  },
  {
   "cell_type": "code",
   "execution_count": 63,
   "id": "db36ac05",
   "metadata": {},
   "outputs": [],
   "source": [
    "def fun(u):\n",
    "    return y_x(s1,s2,u,ss_1,ss_2)"
   ]
  },
  {
   "cell_type": "code",
   "execution_count": 64,
   "id": "c00ebde2",
   "metadata": {},
   "outputs": [
    {
     "name": "stdout",
     "output_type": "stream",
     "text": [
      "adj error: -5.55112e-17 \n",
      "\n"
     ]
    }
   ],
   "source": [
    "ff_b = np.random.rand() \n",
    "_, u_d = jvp(fun, (f,), (f_d,))\n",
    "_, u_barfunc = vjp(fun, f)\n",
    "u_bar = u_barfunc(ff_b)\n",
    "print('adj error: %g \\n' % (dp(u_bar[0],f_d)-dp(ff_b,u_d)))"
   ]
  },
  {
   "cell_type": "markdown",
   "id": "e4db3f18",
   "metadata": {},
   "source": [
    "# split creation and evaluation"
   ]
  },
  {
   "cell_type": "code",
   "execution_count": 41,
   "id": "b305a216",
   "metadata": {},
   "outputs": [],
   "source": [
    "def creation_xy(x,y,u):\n",
    "    u_y = jnp.zeros_like(u)\n",
    "    u_x = jnp.zeros_like(u)\n",
    "    u_xy = jnp.zeros_like(u)\n",
    "    #calculating derivatives\n",
    "    for j in range(y.size):        \n",
    "        u_y = u_y.at[:,j].set(spline.derivs(y,u[:,j]))\n",
    "    for i in range(x.size):\n",
    "        u_x = u_x.at[i,:].set(spline.derivs(x,u[i,:]))\n",
    "        u_xy = u_xy.at[i,:].set(sp line.derivs(x,u_y[i,:]))\n",
    "    return u_x,u_y, u_xy\n",
    "\n",
    "def creation_yx(x,y,u):\n",
    "    u_y = jnp.zeros_like(u)\n",
    "    u_x = jnp.zeros_like(u)\n",
    "    u_xy = jnp.zeros_like(u)\n",
    "    for i in range(x.size):\n",
    "        u_x = u_x.at[i,:].set(spline.derivs(x,u[i,:]))\n",
    "    for j in range(y.size):        \n",
    "        u_y = u_y.at[:,j].set(spline.derivs(y,u[:,j]))\n",
    "        u_xy = u_xy.at[:,j].set(spline.derivs(y,u_x[:,j]))\n",
    "    return u_x,u_y, u_xy"
   ]
  },
  {
   "cell_type": "code",
   "execution_count": 154,
   "id": "d39d863d",
   "metadata": {},
   "outputs": [],
   "source": [
    "N = 4\n",
    "x = jnp.linspace(0.0,1.0,N)  # spline points\n",
    "y = jnp.linspace(0.0,1.0,N)  # spline points\n",
    "key = random.key(123456789)\n",
    "\n",
    "key, sub = random.split(key); "
   ]
  },
  {
   "cell_type": "code",
   "execution_count": 44,
   "id": "3acfe648",
   "metadata": {},
   "outputs": [
    {
     "name": "stdout",
     "output_type": "stream",
     "text": [
      "spline creation, forward/reverse sensitivity check\n",
      "adj error: 0 \n",
      "\n"
     ]
    }
   ],
   "source": [
    "key, sub = random.split(key); u    = random.normal(sub,(N,N))\n",
    "key, sub = random.split(key); u_d  = random.normal(sub,(N,N))\n",
    "key, sub = random.split(key); u_b  = random.normal(sub,(N,N))\n",
    "\n",
    "# compute forward and reverse sensitivities for spline creation\n",
    "_, forward_d = jvp(creation_xy, (x, y, u), (jnp.zeros_like(x), jnp.zeros_like(y), u_d))\n",
    "\n",
    "\n",
    "_, f_vjp = vjp(creation_xy,x,y,u)\n",
    "reverse_b = f_vjp((jnp.ones_like(u),jnp.ones_like(u),jnp.ones_like(u)))\n",
    "\n",
    "print('spline creation, forward/reverse sensitivity check')\n",
    "print('adj error: %g \\n' % (sum([dp(jnp.ones_like(u),i) for i in forward_d]) - dp(reverse_b[2],u_d)))"
   ]
  },
  {
   "cell_type": "code",
   "execution_count": 45,
   "id": "b21cd3f3",
   "metadata": {},
   "outputs": [
    {
     "name": "stdout",
     "output_type": "stream",
     "text": [
      "spline creation, forward/reverse sensitivity check\n",
      "adj error: 7.10543e-15 \n",
      "\n"
     ]
    }
   ],
   "source": [
    "# compute forward and reverse sensitivities for spline creation\n",
    "_, forward_d = jvp(creation_yx, (x, y, u), (jnp.zeros_like(x), jnp.zeros_like(y), u_d))\n",
    "\n",
    "\n",
    "_, f_vjp = vjp(creation_yx,x,y,u)\n",
    "reverse_b = f_vjp((jnp.ones_like(u),jnp.ones_like(u),jnp.ones_like(u)))\n",
    "\n",
    "print('spline creation, forward/reverse sensitivity check')\n",
    "print('adj error: %g \\n' % (sum([dp(jnp.ones_like(u),i) for i in forward_d]) - dp(reverse_b[2],u_d)))"
   ]
  },
  {
   "cell_type": "code",
   "execution_count": 46,
   "id": "c3f9fd72",
   "metadata": {},
   "outputs": [
    {
     "name": "stdout",
     "output_type": "stream",
     "text": [
      "Output of creation_xy: (Array([[-0.        ,  2.85192058, -2.69062091,  0.        ],\n",
      "       [ 0.        ,  2.91878493, -3.41250738,  0.        ],\n",
      "       [-0.        ,  4.47305071, -1.89339998,  0.        ],\n",
      "       [ 0.        ,  2.33059815,  6.57476189,  0.        ]],      dtype=float64), Array([[ 0.        , -0.        ,  0.        ,  0.        ],\n",
      "       [-0.13617351,  2.14531014,  1.29665608,  0.80392115],\n",
      "       [-0.78754935, -6.64952233,  0.7628738 ,  3.52604751],\n",
      "       [ 0.        ,  0.        ,  0.        ,  0.        ]],      dtype=float64), Array([[ 0.        ,  0.        ,  0.        ,  0.        ],\n",
      "       [ 0.        ,  4.2436244 , -4.07903134,  0.        ],\n",
      "       [ 0.        , -2.38432634, 23.49111371,  0.        ],\n",
      "       [ 0.        ,  0.        ,  0.        ,  0.        ]],      dtype=float64))\n",
      "Output of creation_yx: (Array([[-0.        ,  2.85192058, -2.69062091,  0.        ],\n",
      "       [ 0.        ,  2.91878493, -3.41250738,  0.        ],\n",
      "       [-0.        ,  4.47305071, -1.89339998,  0.        ],\n",
      "       [ 0.        ,  2.33059815,  6.57476189,  0.        ]],      dtype=float64), Array([[ 0.        , -0.        ,  0.        ,  0.        ],\n",
      "       [-0.13617351,  2.14531014,  1.29665608,  0.80392115],\n",
      "       [-0.78754935, -6.64952233,  0.7628738 ,  3.52604751],\n",
      "       [ 0.        ,  0.        ,  0.        ,  0.        ]],      dtype=float64), Array([[ 0.        ,  0.        ,  0.        ,  0.        ],\n",
      "       [ 0.        ,  4.2436244 , -4.07903134,  0.        ],\n",
      "       [ 0.        , -2.38432634, 23.49111371,  0.        ],\n",
      "       [ 0.        ,  0.        ,  0.        ,  0.        ]],      dtype=float64))\n",
      "Outputs are the same: True\n"
     ]
    }
   ],
   "source": [
    "# Compute the outputs of both derivatives\n",
    "output_xy = creation_xy(x, y, f)\n",
    "output_yx = creation_yx(x, y, f)\n",
    "\n",
    "# Check if the outputs are the same\n",
    "def check_outputs(output1, output2):\n",
    "    for o1, o2 in zip(output1, output2):\n",
    "        if not jnp.allclose(o1, o2):\n",
    "            return False\n",
    "    return True\n",
    "\n",
    "outputs_same = check_outputs(output_xy, output_yx)\n",
    "\n",
    "# Print the results\n",
    "print(\"Output of creation_xy:\", output_xy)\n",
    "print(\"Output of creation_yx:\", output_yx)\n",
    "print(\"Outputs are the same:\", outputs_same)"
   ]
  },
  {
   "cell_type": "markdown",
   "id": "71874d21",
   "metadata": {},
   "source": [
    "## modified evaluation, only use the four points around the evaluated one"
   ]
  },
  {
   "cell_type": "code",
   "execution_count": 478,
   "id": "fb791028",
   "metadata": {},
   "outputs": [],
   "source": [
    "def eval_reverse(s, x, x_b, xp, xp_b, ss, ss_b, xx_b):\n",
    "    i = np.sum(np.where(s<ss,1,0));\n",
    "\n",
    "    if (i==0):         # outside entire interval\n",
    "        x_b = x_b.at[0].set(x_b[0] + xx_b)\n",
    "\n",
    "    elif (i==s.size):  # outside entire interval\n",
    "         x_b = x_b.at[-1].set(x_b[-1] + xx_b)\n",
    "            \n",
    "    else:              # interval (s[i-1], s[i])\n",
    "        ds   = s[i]-s[i-1]\n",
    "        t    = (ss-s[i-1]) / ds\n",
    "        x_b = x_b.at[i-1].set(x_b[i-1]  + (1   - 3*t**2 + 2*t**3) * xx_b)\n",
    "        x_b = x_b.at[i].set(x_b[i]    + (      3*t**2 - 2*t**3) * xx_b)\n",
    "        xp_b = xp_b.at[i-1].set(xp_b[i-1] + (  t - 2*t**2 +   t**3) * xx_b*ds)\n",
    "        xp_b = xp_b.at[i].set(xp_b[i]   + (    -   t**2 +   t**3) * xx_b*ds)\n",
    "        ss_b = ss_b + ( (  - 6*t + 6*t**2) * x[i-1]      \\\n",
    "                      + (    6*t - 6*t**2) * x[i]        \\\n",
    "                      + (1 - 4*t + 3*t**2) * xp[i-1]*ds  \\\n",
    "                      + (  - 2*t + 3*t**2) * xp[i]  *ds ) * xx_b/ds;\n",
    "\n",
    "    return x_b, xp_b, ss_b\n",
    "\n",
    "def eval_forward(s, x, x_d, xp, xp_d, ss, ss_d):\n",
    "    i = np.sum(np.where(s<ss,1,0));\n",
    "\n",
    "    if (i==0):         # outside entire interval\n",
    "        xx_d = x_d[0]\n",
    "\n",
    "    elif (i==s.size):  # outside entire interval\n",
    "        xx_d = x_d[-1]\n",
    "\n",
    "    else:              # interval (s[i-1], s[i])\n",
    "        ds   = s[i]-s[i-1]\n",
    "        t    = (ss-s[i-1]) / ds\n",
    "        t_d  =  ss_d / ds\n",
    "        xx_d = (1   - 3*t**2 + 2*t**3) * x_d[i-1]     \\\n",
    "             + (      3*t**2 - 2*t**3) * x_d[i]       \\\n",
    "             + (  t - 2*t**2 +   t**3) * ds*xp_d[i-1] \\\n",
    "             + (    -   t**2 +   t**3) * ds*xp_d[i]   \\\n",
    "             + ( (  - 6*t + 6*t**2) * x[i-1]          \\\n",
    "               + (    6*t - 6*t**2) * x[i]            \\\n",
    "               + (1 - 4*t + 3*t**2) * ds*xp[i-1]      \\\n",
    "               + (  - 2*t + 3*t**2) * ds*xp[i] ) * t_d\n",
    "\n",
    "    return xx_d\n",
    "\n",
    "def eval_2p(s, x, xp, ss):\n",
    "\n",
    "    if x[0]==x[1]:         # outside entire interval \n",
    "        xx = x[-1]\n",
    "\n",
    "    else:      func        # interval (s[i-1], s[i])\n",
    "        ds = s[1]-s[0]\n",
    "        t  = (ss-s[0]) / ds\n",
    "        xx = (1   - 3*t**2 + 2*t**3) * x[0]     \\\n",
    "           + (      3*t**2 - 2*t**3) * x[1]   \\\n",
    "           + (  t - 2*t**2 +   t**3) * ds*xp[0] \\\n",
    "           + (    -   t**2 +   t**3) * ds*xp[1]\n",
    "        \n",
    "\n",
    "    return xx\n",
    "\n",
    "def eval_2p_reverse(s, x, xp, ss, xx_b, x_b, xp_b, ss_b):\n",
    "\n",
    "    if x[0]==x[1]:         # outside entire interval \n",
    "        x_b = x_b.at[-1].set(x_b[-1] + xx_b)\n",
    "\n",
    "    else:              # interval (s[i-1], s[i])\n",
    "        ds = s[1]-s[0]\n",
    "        t  = (ss-s[0]) / ds\n",
    "        x_b = x_b.at[0].set(x_b[0]  + (1   - 3*t**2 + 2*t**3) * xx_b)\n",
    "        x_b = x_b.at[1].set(x_b[1]    + (      3*t**2 - 2*t**3) * xx_b)\n",
    "        xp_b = xp_b.at[0].set(xp_b[0] + (  t - 2*t**2 +   t**3) * xx_b*ds)\n",
    "        xp_b = xp_b.at[1].set(xp_b[1]   + (    -   t**2 +   t**3) * xx_b*ds)\n",
    "        ss_b = ss_b + ( (  - 6*t + 6*t**2) * x[0]      \\\n",
    "                      + (    6*t - 6*t**2) * x[1]        \\\n",
    "                      + (1 - 4*t + 3*t**2) * xp[0]*ds  \\\n",
    "                      + (  - 2*t + 3*t**2) * xp[1]  *ds ) * xx_b/ds\n",
    "    return x_b, xp_b, ss_b\n",
    "\n",
    "def eval_2p_forward(s, x, x_d, xp, xp_d, ss, ss_d):\n",
    "\n",
    "    if x[0]==x[1]:         # outside entire interval \n",
    "        xx_d = x_d[-1]\n",
    "\n",
    "    else:              # interval (s[i-1], s[i])\n",
    "        ds = s[1]-s[0]\n",
    "        t  = (ss-s[0]) / ds\n",
    "        t_d  =  ss_d / ds;\n",
    "        xx_d = (1   - 3*t**2 + 2*t**3) * x_d[0]     \\\n",
    "             + (      3*t**2 - 2*t**3) * x_d[1]       \\\n",
    "             + (  t - 2*t**2 +   t**3) * ds*xp_d[0] \\\n",
    "             + (    -   t**2 +   t**3) * ds*xp_d[1]   \\\n",
    "             + ( (  - 6*t + 6*t**2) * x[0]          \\\n",
    "               + (    6*t - 6*t**2) * x[1]            \\\n",
    "               + (1 - 4*t + 3*t**2) * ds*xp[0]      \\\n",
    "               + (  - 2*t + 3*t**2) * ds*xp[1] ) * t_d\n",
    "\n",
    "    return xx_d\n",
    "\n",
    "def evaluation_xy(x,y,u,output_xy,a,b):\n",
    "    i = jnp.sum(jnp.where(x<a,1,0))\n",
    "    j = jnp.sum(jnp.where(y<b,1,0))\n",
    "    u_x = output_xy[0]\n",
    "    u_y = output_xy[1]\n",
    "    u_xy = output_xy[2]\n",
    "    #splining by fixing y\n",
    "    if j != 0 and j != x.size:\n",
    "        u_a2 = spline.eval(x,u[j,:],u_x[j,:],a)\n",
    "        u_y_2 = spline.eval(x,u_y[j,:],u_xy[j,:],a)\n",
    "        u_a1 = spline.eval(x,u[j-1,:],u_x[j-1,:],a)\n",
    "        u_y_1 = spline.eval(x,u_y[j-1,:],u_xy[j-1,:],a)\n",
    "        y_interval = y[j-1:j+1]\n",
    "    elif j == 0:\n",
    "        u_a1 = spline.eval(x,u[j,:],u_x[j,:],a)\n",
    "        u_y_1 = spline.eval(x,u_y[j,:],u_xy[j,:],a)\n",
    "        u_a2 = u_a1\n",
    "        u_y_2 = u_y_1\n",
    "        y_interval = jnp.array([y[j]]*2)\n",
    "    else:  # j==x.size\n",
    "        u_a1 = spline.eval(x,u[j-1,:],u_x[j-1,:],a)\n",
    "        u_y_1 = spline.eval(x,u_y[j-1,:],u_xy[j-1,:],a)\n",
    "        u_a2 = u_a1\n",
    "        u_y_2 = u_y_1\n",
    "        y_interval = jnp.array([y[j-1]]*2)\n",
    "    #fixing x\n",
    "    u_ab = eval_2p(y_interval,jnp.array([u_a1,u_a2]),jnp.array([u_y_1,u_y_2]),b)\n",
    "    return u_ab\n",
    "\n",
    "def evaluation_xy_reverse(x,y,u,output_xy,a,b, u_a_bar, u_y__bar, a_bar, b_bar, output_xy_bar, u_bar, u_ab_bar):\n",
    "    i = jnp.sum(jnp.where(x<a,1,0))\n",
    "    j = jnp.sum(jnp.where(y<b,1,0))\n",
    "        \n",
    "    u_x = output_xy[0]\n",
    "    u_y = output_xy[1]\n",
    "    u_xy = output_xy[2]\n",
    "    \n",
    "    u_x_bar = output_xy_bar[0]\n",
    "    u_y_bar = output_xy_bar[1]\n",
    "    u_xy_bar = output_xy_bar[2]\n",
    "    \n",
    "    #splining by fixing y\n",
    "    if j != 0 and j != x.size:\n",
    "        u_a2 = spline.eval(x,u[j,:],u_x[j,:],a)\n",
    "        u_y_2 = spline.eval(x,u_y[j,:],u_xy[j,:],a)\n",
    "        u_a1 = spline.eval(x,u[j-1,:],u_x[j-1,:],a)\n",
    "        u_y_1 = spline.eval(x,u_y[j-1,:],u_xy[j-1,:],a)\n",
    "        y_interval = y[j-1:j+1]\n",
    "    elif j == 0:\n",
    "        u_a1 = spline.eval(x,u[j,:],u_x[j,:],a)\n",
    "        u_y_1 = spline.eval(x,u_y[j,:],u_xy[j,:],a)\n",
    "        u_a2 = u_a1\n",
    "        u_y_2 = u_y_1\n",
    "        y_interval = jnp.array([y[j]]*2)\n",
    "    else:  # j==x.size\n",
    "        u_a1 = spline.eval(x,u[j-1,:],u_x[j-1,:],a)\n",
    "        u_y_1 = spline.eval(x,u_y[j-1,:],u_xy[j-1,:],a)\n",
    "        u_a2 = u_a1\n",
    "        u_y_2 = u_y_1\n",
    "        y_interval = jnp.array([y[j-1]]*2)\n",
    "    #fixing x\n",
    "    u_a_bar, u_y__bar, b_bar = \\\n",
    "    eval_2p_reverse(y_interval,jnp.array([u_a1,u_a2]),jnp.array([u_y_1,u_y_2]),b,u_ab_bar, u_a_bar, u_y__bar,b_bar)\n",
    "    if j != 0 and j != x.size:\n",
    "        x_b, xp_b, ss_b = eval_reverse(x,u_y[j-1,:], u_y_bar[j-1,:], u_xy[j-1,:], u_xy_bar[j-1,:], a, a_bar, u_y__bar[0])\n",
    "        u_y_bar = u_y_bar.at[j-1,:].set(x_b)\n",
    "        u_xy_bar = u_xy_bar.at[j-1,:].set(xp_b)\n",
    "        a_bar = ss_b\n",
    "        x_b, xp_b, ss_b = eval_reverse(x,u[j-1,:], u_bar[j-1,:], u_x[j-1,:], u_x_bar[j-1,:], a, a_bar, u_a_bar[0])\n",
    "        u_bar = u_bar.at[j-1,:].set(x_b)\n",
    "        u_x_bar = u_x_bar.at[j-1,:].set(xp_b)\n",
    "        a_bar = ss_b\n",
    "        x_b, xp_b, ss_b = eval_reverse(x,u_y[j,:], u_y_bar[j,:], u_xy[j,:], u_xy_bar[j,:], a, a_bar, u_y__bar[1])\n",
    "        u_y_bar = u_y_bar.at[j,:].set(x_b)\n",
    "        u_xy_bar = u_xy_bar.at[j,:].set(xp_b)\n",
    "        a_bar = ss_b\n",
    "        x_b, xp_b, ss_b = eval_reverse(x,u[j,:], u_bar[j,:], u_x[j,:], u_x_bar[j,:], a, a_bar, u_a_bar[1])\n",
    "        u_bar = u_bar.at[j,:].set(x_b)\n",
    "        u_x_bar = u_x_bar.at[j,:].set(xp_b)\n",
    "        a_bar = ss_b\n",
    "    elif j == 0:\n",
    "        u_y__bar = u_y__bar.at[0].set(u_y__bar[1])\n",
    "        u_a_bar = u_a_bar.at[0].set(u_a_bar[1])\n",
    "        x_b, xp_b, ss_b = eval_reverse(x,u_y[j,:], u_y_bar[j,:], u_xy[j,:], u_xy_bar[j,:], a, a_bar, u_y__bar[1])\n",
    "        u_y_bar = u_y_bar.at[j,:].set(x_b)\n",
    "        u_xy_bar = u_xy_bar.at[j,:].set(xp_b)\n",
    "        a_bar = ss_b\n",
    "        x_b, xp_b, ss_b = eval_reverse(x,u[j,:], u_bar[j,:], u_x[j,:], u_x_bar[j,:], a, a_bar, u_a_bar[1])\n",
    "        u_bar = u_bar.at[j,:].set(x_b)\n",
    "        u_x_bar = u_x_bar.at[j,:].set(xp_b)\n",
    "        a_bar = ss_b\n",
    "    else:\n",
    "        u_y__bar = u_y__bar.at[1].set(u_y__bar[0])\n",
    "        u_a_bar = u_a_bar.at[1].set(u_a_bar[0])\n",
    "        x_b, xp_b, ss_b = eval_reverse(x,u_y[j-1,:], u_y_bar[j-1,:], u_xy[j-1,:], u_xy_bar[j-1,:], a, a_bar, u_y__bar[0])\n",
    "        u_y_bar = u_y_bar.at[j-1,:].set(x_b)\n",
    "        u_xy_bar = u_xy_bar.at[j-1,:].set(xp_b)\n",
    "        a_bar = ss_b\n",
    "        x_b, xp_b, ss_b = eval_reverse(x,u[j-1,:], u_bar[j-1,:], u_x[j-1,:], u_x_bar[j-1,:], a, a_bar, u_a_bar[0])\n",
    "        u_bar = u_bar.at[j-1,:].set(x_b)\n",
    "        u_x_bar = u_x_bar.at[j-1,:].set(xp_b)\n",
    "        a_bar = ss_b\n",
    "    \n",
    "    output_xy_bar_new = (u_x_bar, u_y_bar, u_xy_bar)\n",
    "    \n",
    "    return u_bar, output_xy_bar_new, a_bar, b_bar\n",
    "\n",
    "def evaluation_xy_forward(x,y,u,output_xy,a,b,u_d,output_xy_d,a_d,b_d):\n",
    "    i = jnp.sum(jnp.where(x<a,1,0))\n",
    "    j = jnp.sum(jnp.where(y<b,1,0))\n",
    "    \n",
    "    u_x = output_xy[0]\n",
    "    u_y = output_xy[1]\n",
    "    u_xy = output_xy[2]\n",
    "    \n",
    "    u_x_d = output_xy_d[0]\n",
    "    u_y_d = output_xy_d[1]\n",
    "    u_xy_d = output_xy_d[2]\n",
    "    \n",
    "    #splining by fixing y\n",
    "    if j != 0 and j != x.size:\n",
    "        u_a2 = spline.eval(x,u[j,:],u_x[j,:],a)\n",
    "        u_y_2 = spline.eval(x,u_y[j,:],u_xy[j,:],a)\n",
    "        u_a1 = spline.eval(x,u[j-1,:],u_x[j-1,:],a)\n",
    "        u_y_1 = spline.eval(x,u_y[j-1,:],u_xy[j-1,:],a)\n",
    "        #(s, x, x_d, xp, xp_d, ss, ss_d)\n",
    "        u_a2_d = eval_forward(x,u[j,:],u_d[j,:],u_x[j,:],u_x_d[j,:],a,a_d)\n",
    "        u_y_2_d = eval_forward(x,u_y[j,:],u_y_d[j,:],u_xy[j,:],u_xy_d[j,:],a,a_d)\n",
    "        u_a1_d = eval_forward(x,u[j-1,:],u_d[j-1,:],u_x[j-1,:],u_x_d[j-1,:],a,a_d)\n",
    "        u_y_1_d = eval_forward(x,u_y[j-1,:],u_y_d[j-1,:],u_xy[j-1,:],u_xy_d[j-1,:],a,a_d)\n",
    "        y_interval = y[j-1:j+1]\n",
    "    elif j == 0:\n",
    "        u_a1 = spline.eval(x,u[j,:],u_x[j,:],a)\n",
    "        u_y_1 = spline.eval(x,u_y[j,:],u_xy[j,:],a)\n",
    "        u_a2 = u_a1\n",
    "        u_y_2 = u_y_1\n",
    "        u_a1_d = eval_forward(x,u[j,:],u_d[j,:],u_x[j,:],u_x_d[j,:],a,a_d)\n",
    "        u_y_1_d = eval_forward(x,u_y[j,:],u_y_d[j,:],u_xy[j,:],u_xy_d[j,:],a,a_d)\n",
    "        u_a2_d = u_a1_d\n",
    "        u_y_2_d = u_y_1_d\n",
    "        y_interval = jnp.array([y[j]]*2)\n",
    "    else:  # j==x.size\n",
    "        u_a1 = spline.eval(x,u[j-1,:],u_x[j-1,:],a)\n",
    "        u_y_1 = spline.eval(x,u_y[j-1,:],u_xy[j-1,:],a)\n",
    "        u_a2 = u_a1\n",
    "        u_y_2 = u_y_1\n",
    "        u_a1_d = eval_forward(x,u[j-1,:],u_d[j-1,:],u_x[j-1,:],u_x_d[j-1,:],a,a_d)\n",
    "        u_y_1_d = eval_forward(x,u_y[j-1,:],u_y_d[j-1,:],u_xy[j-1,:],u_xy_d[j-1,:],a,a_d)\n",
    "        u_a2_d = u_a1_d\n",
    "        u_y_2_d = u_y_1_d\n",
    "        y_interval = jnp.array([y[j-1]]*2)\n",
    "    #fixing x\n",
    "    u_ab_d = eval_2p_forward(y_interval,jnp.array([u_a1,u_a2]),jnp.array([u_a1_d,u_a2_d]),\\\n",
    "                             jnp.array([u_y_1,u_y_2]),jnp.array([u_y_1_d,u_y_2_d]),b,b_d)\n",
    "    return u_ab_d\n",
    "\n",
    "\n",
    "def evaluation_yx(x,y,u,output_yx,a,b):\n",
    "    i = jnp.sum(jnp.where(x<a,1,0))\n",
    "    j = jnp.sum(jnp.where(y<b,1,0))\n",
    "    u_x = output_yx[0]\n",
    "    u_y = output_yx[1]\n",
    "    u_xy = output_yx[2]\n",
    "    #splining by fixing x\n",
    "    if i != 0 and i != y.size:\n",
    "        u_a2 = spline.eval(y,u[:,i],u_y[:,i],b)\n",
    "        u_x_2 = spline.eval(y,u_x[:,i],u_xy[:,i],b)\n",
    "        u_a1 = spline.eval(y,u[:,i-1],u_y[:,i-1],b)\n",
    "        u_x_1 = spline.eval(y,u_x[:,i-1],u_xy[:,i-1],b)\n",
    "        x_interval = x[i-1:i+1]\n",
    "    elif i == 0:\n",
    "        u_a1 = spline.eval(y,u[:,i],u_y[:,i],b)\n",
    "        u_x_1 = spline.eval(y,u_x[:,i],u_xy[:,i],b)\n",
    "        u_a2 = u_a1\n",
    "        u_x_2 = u_x_1\n",
    "        x_interval = jnp.array([x[i]]*2)\n",
    "    else:  # i==y.size\n",
    "        u_a1 = spline.eval(y,u[:,i-1],u_y[:,i-1],b)\n",
    "        u_x_1 = spline.eval(y,u_x[:,i-1],u_xy[:,i-1],b)\n",
    "        u_a2 = u_a1\n",
    "        u_x_2 = u_x_1\n",
    "        x_interval = jnp.array([x[i-1]]*2)\n",
    "    #fixing y\n",
    "    u_ab = eval_2p(x_interval,jnp.array([u_a1,u_a2]),jnp.array([u_x_1,u_x_2]),a)\n",
    "    return u_ab"
   ]
  },
  {
   "cell_type": "code",
   "execution_count": 148,
   "id": "6962d6a3",
   "metadata": {},
   "outputs": [
    {
     "name": "stdout",
     "output_type": "stream",
     "text": [
      "adj error: -2.25514e-17 \n",
      "\n"
     ]
    }
   ],
   "source": [
    "N = 6\n",
    "s    = jnp.linspace(0.0,1.0,N)  # spline points\n",
    "x    = random.normal(sub,(N,))\n",
    "x_d  = random.normal(sub,(N,))\n",
    "x_b  = random.normal(sub,(N,))\n",
    "xp_b = random.normal(sub,(N,))\n",
    "\n",
    "xp   = spline.derivs(s, x)\n",
    "xp_d = spline.derivs(s, x_d)    \n",
    "\n",
    "ss   = np.random.rand()  # uniform on (0,1)\n",
    "ss_d = np.random.rand()\n",
    "xx_b = np.random.rand()\n",
    "\n",
    "x_b  = jnp.zeros_like(x)\n",
    "xp_b = jnp.zeros_like(x)\n",
    "ss_b = 0.\n",
    "\n",
    "xx_d = eval_2p_forward(s, x, x_d, xp, xp_d, ss, ss_d)\n",
    "x_b, xp_b, ss_b = eval_2p_reverse(s, x, xp, ss, xx_b, x_b, xp_b, ss_b)\n",
    "print('adj error: %g \\n' % (xx_b*xx_d-ss_b*ss_d-dp(x_b,x_d)-dp(xp_b,xp_d)))"
   ]
  },
  {
   "cell_type": "code",
   "execution_count": 503,
   "id": "60aee900",
   "metadata": {},
   "outputs": [
    {
     "data": {
      "text/plain": [
       "Array(1.02552223, dtype=float64)"
      ]
     },
     "execution_count": 503,
     "metadata": {},
     "output_type": "execute_result"
    }
   ],
   "source": [
    "output_xy = creation_xy(s1, s2, f)\n",
    "evaluation_xy(s1,s2,f,output_xy,ss_1,ss_2)"
   ]
  },
  {
   "cell_type": "code",
   "execution_count": 512,
   "id": "0fe0e4bd",
   "metadata": {},
   "outputs": [
    {
     "name": "stdout",
     "output_type": "stream",
     "text": [
      "spline evaluation, forward/reverse sensitivity check\n",
      "forward sensitivity: 1.031015\n",
      "reverse sensitivity: 1.031015\n",
      "adj error: 0 \n",
      "\n"
     ]
    }
   ],
   "source": [
    "# Forward mode \n",
    "u_d = jnp.ones_like(f)  \n",
    "output_xy_d = (u_d, u_d, u_d)\n",
    "forward_primal, forward_d = jvp(evaluation_xy, (s1, s2, f, output_xy, ss_1, ss_2), \\\n",
    "                                      (jnp.zeros_like(x), jnp.zeros_like(y), u_d, output_xy_d, 0.0, 0.0))\n",
    "\n",
    "# Reverse mode (VJP)\n",
    "_, vjp_fun = vjp(evaluation_xy, s1, s2, f, output_xy, ss_1, ss_2)\n",
    "u_b = jnp.ones_like(forward_primal)\n",
    "reverse_b = vjp_fun(u_b)\n",
    "\n",
    "print('spline evaluation, forward/reverse sensitivity check')\n",
    "print('forward sensitivity: %f'%(forward_d))\n",
    "print('reverse sensitivity: %f'% (sum([dp(jnp.ones_like(f),reverse_b[2])]+[dp(jnp.ones_like(f),i) for i in reverse_b[3]])))\n",
    "print('adj error: %g \\n' % (sum([dp(jnp.ones_like(f),reverse_b[2])]+[dp(jnp.ones_like(f),i) for i in reverse_b[3]]) \\\n",
    "                            - dp(u_b,forward_d)))"
   ]
  },
  {
   "cell_type": "code",
   "execution_count": 469,
   "id": "26500b0e",
   "metadata": {},
   "outputs": [
    {
     "data": {
      "text/plain": [
       "Array(1., dtype=float64)"
      ]
     },
     "execution_count": 469,
     "metadata": {},
     "output_type": "execute_result"
    }
   ],
   "source": [
    "forward_d"
   ]
  },
  {
   "cell_type": "code",
   "execution_count": 470,
   "id": "52bb54e2",
   "metadata": {},
   "outputs": [
    {
     "data": {
      "text/plain": [
       "(Array([[0., 0., 0., 0.],\n",
       "        [0., 0., 0., 0.],\n",
       "        [0., 0., 0., 0.],\n",
       "        [0., 0., 0., 0.]], dtype=float64),\n",
       " Array([[0., 0., 0., 0.],\n",
       "        [0., 0., 0., 0.],\n",
       "        [0., 0., 0., 0.],\n",
       "        [0., 0., 0., 0.]], dtype=float64),\n",
       " Array([[0., 0., 0., 0.],\n",
       "        [0., 0., 0., 0.],\n",
       "        [0., 0., 0., 0.],\n",
       "        [0., 0., 0., 0.]], dtype=float64))"
      ]
     },
     "execution_count": 470,
     "metadata": {},
     "output_type": "execute_result"
    }
   ],
   "source": [
    "reverse_b[3]"
   ]
  },
  {
   "cell_type": "code",
   "execution_count": 471,
   "id": "bfaa2c34",
   "metadata": {},
   "outputs": [
    {
     "data": {
      "text/plain": [
       "(Array(0., dtype=float64), Array(0., dtype=float64))"
      ]
     },
     "execution_count": 471,
     "metadata": {},
     "output_type": "execute_result"
    }
   ],
   "source": [
    "reverse_b[4], reverse_b[5]"
   ]
  },
  {
   "cell_type": "code",
   "execution_count": 514,
   "id": "99f2f2eb",
   "metadata": {},
   "outputs": [
    {
     "name": "stdout",
     "output_type": "stream",
     "text": [
      "spline evaluation, forward/reverse sensitivity check\n",
      "forward sensitivity: 1.031015\n",
      "reverse sensitivity: 1.031015\n",
      "adj error: 0 \n",
      "\n"
     ]
    }
   ],
   "source": [
    "# Forward mode \n",
    "u_d = jnp.ones_like(f)  \n",
    "output_xy_d = (u_d, u_d, u_d)\n",
    "a_d,b_d = 0.,0. \n",
    "forward_d = evaluation_xy_forward(s1,s2,f,output_xy,ss_1,ss_2,u_d,output_xy_d,a_d,b_d)\n",
    "\n",
    "# Reverse mode (VJP)\n",
    "u_a_bar = jnp.array([0.,0.])\n",
    "u_y__bar = jnp.array([0.,0.])\n",
    "a_bar, b_bar, u_ab_bar = 0., 0., 1.\n",
    "output_xy_bar = (jnp.zeros_like(f), jnp.zeros_like(f), jnp.zeros_like(f))\n",
    "u_bar = jnp.zeros_like(f)\n",
    "reverse_b = evaluation_xy_reverse(s1,s2,f,output_xy,ss_1,ss_2, \\\n",
    "                                  u_a_bar, u_y__bar, a_bar, b_bar, output_xy_bar, u_bar, u_ab_bar)\n",
    "\n",
    "print('spline evaluation, forward/reverse sensitivity check')\n",
    "print('forward sensitivity: %f'%(forward_d))\n",
    "print('reverse sensitivity: %f'% (sum([dp(jnp.ones_like(f),reverse_b[0])]+[dp(jnp.ones_like(f),i) for i in reverse_b[1]])))\n",
    "print('adj error: %g \\n' % (sum([dp(jnp.ones_like(f),reverse_b[0])]+[dp(jnp.ones_like(f),i) for i in reverse_b[1]]) \\\n",
    "                            - dp(u_ab_bar,forward_d)))"
   ]
  },
  {
   "cell_type": "code",
   "execution_count": 484,
   "id": "67abaa5b",
   "metadata": {},
   "outputs": [
    {
     "data": {
      "text/plain": [
       "Array(1., dtype=float64)"
      ]
     },
     "execution_count": 484,
     "metadata": {},
     "output_type": "execute_result"
    }
   ],
   "source": [
    "forward_d"
   ]
  },
  {
   "cell_type": "code",
   "execution_count": 485,
   "id": "30b0bc84",
   "metadata": {},
   "outputs": [
    {
     "data": {
      "text/plain": [
       "(Array([[0., 0., 0., 0.],\n",
       "        [0., 0., 0., 0.],\n",
       "        [0., 0., 0., 0.],\n",
       "        [0., 0., 0., 0.]], dtype=float64),\n",
       " Array([[0., 0., 0., 0.],\n",
       "        [0., 0., 0., 0.],\n",
       "        [0., 0., 0., 0.],\n",
       "        [0., 0., 0., 0.]], dtype=float64),\n",
       " Array([[0., 0., 0., 0.],\n",
       "        [0., 0., 0., 0.],\n",
       "        [0., 0., 0., 0.],\n",
       "        [0., 0., 0., 0.]], dtype=float64))"
      ]
     },
     "execution_count": 485,
     "metadata": {},
     "output_type": "execute_result"
    }
   ],
   "source": [
    "reverse_b[1]"
   ]
  },
  {
   "cell_type": "code",
   "execution_count": 486,
   "id": "a5e55ae9",
   "metadata": {},
   "outputs": [
    {
     "data": {
      "text/plain": [
       "(Array(0., dtype=float64), Array(0., dtype=float64))"
      ]
     },
     "execution_count": 486,
     "metadata": {},
     "output_type": "execute_result"
    }
   ],
   "source": [
    "reverse_b[2], reverse_b[3]"
   ]
  },
  {
   "cell_type": "code",
   "execution_count": 477,
   "id": "e52afb45",
   "metadata": {},
   "outputs": [
    {
     "data": {
      "text/plain": [
       "Array(0.35150377, dtype=float64)"
      ]
     },
     "execution_count": 477,
     "metadata": {},
     "output_type": "execute_result"
    }
   ],
   "source": [
    "output_yx = creation_yx(s1, s2, f)\n",
    "evaluation_yx(s1,s2,f,output_yx,ss_1,ss_2)"
   ]
  },
  {
   "cell_type": "code",
   "execution_count": 464,
   "id": "510cfe22",
   "metadata": {},
   "outputs": [
    {
     "name": "stdout",
     "output_type": "stream",
     "text": [
      "spline evaluation, forward/reverse sensitivity check\n",
      "adj error: 0 \n",
      "\n"
     ]
    }
   ],
   "source": [
    "# Forward mode \n",
    "u_d = jnp.ones_like(f)  \n",
    "output_yx_d = (u_d, u_d, u_d)\n",
    "forward_primal, forward_d = jvp(evaluation_yx, (s1, s2, f, output_yx, ss_1, ss_2), \\\n",
    "                                      (jnp.zeros_like(x), jnp.zeros_like(y), u_d, output_yx_d, 0.0, 0.0))\n",
    "\n",
    "# Reverse mode (VJP)\n",
    "_, vjp_fun = vjp(evaluation_yx, s1, s2, f, output_yx, ss_1, ss_2)\n",
    "u_b = jnp.ones_like(forward_primal)\n",
    "reverse_b = vjp_fun(u_b)\n",
    "\n",
    "print('spline evaluation, forward/reverse sensitivity check')\n",
    "print('adj error: %g \\n' % (sum([dp(jnp.ones_like(f),reverse_b[2])]+[dp(jnp.ones_like(f),i) for i in reverse_b[3]]) \\\n",
    "                            - dp(u_b,forward_d)))"
   ]
  },
  {
   "cell_type": "markdown",
   "id": "1f5a4914",
   "metadata": {},
   "source": [
    "# local vol PDE"
   ]
  },
  {
   "cell_type": "code",
   "execution_count": 205,
   "id": "4f335536",
   "metadata": {},
   "outputs": [],
   "source": [
    "import numpy as np\n",
    "import matplotlib.pyplot as plt\n",
    "# import call_options as calls\n",
    "import jax_trid as trid\n",
    "import spline"
   ]
  },
  {
   "cell_type": "code",
   "execution_count": 289,
   "id": "e1b10513",
   "metadata": {},
   "outputs": [],
   "source": [
    "# eval from x to y\n",
    "# dot product function for vectors and arrays\n",
    "\n",
    "def dp(A_b,A_d):\n",
    "    return np.sum(np.multiply(A_b,A_d))\n",
    "\n",
    "#\n",
    "# define BS discretisation with local volatility\n",
    "#\n",
    "\n",
    "\n",
    "def BS_discretisation(J,n,dt,dS, r, s,t,sig,sigp):\n",
    "    J = int(J)\n",
    "    a = jnp.zeros(J+1);  b = jnp.zeros(J+1);  c = jnp.zeros(J+1)\n",
    "    \n",
    "    for j in range(J):\n",
    "        sigma = evaluation_xy(s,t,sig, sigp, j*dS, n*dt)\n",
    "#         print(sigma)\n",
    "        a = a.at[j].set(dt*( 0.5*sigma**2*j*j - 0.5*r*j     ))\n",
    "        b = b.at[j].set(dt*(   - sigma**2*j*j           - r ))\n",
    "        c = c.at[j].set(dt*( 0.5*sigma**2*j*j + 0.5*r*j     ))\n",
    "\n",
    "    a = a.at[J].set(dt*( -r*J     ))   # enforce right-hand b.c.\n",
    "    b = b.at[J].set(dt*(  r*J - r ))\n",
    "\n",
    "    return trid.assemble(a,b,c)"
   ]
  },
  {
   "cell_type": "code",
   "execution_count": 497,
   "id": "68f85db8",
   "metadata": {},
   "outputs": [],
   "source": [
    "def BS_discretisation_forward(J,n,dt,dS, r, s,t,sig,sigp,r_d, sig_d, sigp_d, ss_d, tt_d):\n",
    "    a_d = jnp.zeros(J+1);  b_d = jnp.zeros(J+1);  c_d = jnp.zeros(J+1)\n",
    "    \n",
    "    for j in range(J):\n",
    "        sigma = evaluation_xy(s,t,sig, sigp, j*dS, n*dt)\n",
    "        #(x,y,u,output_xy,a,b,u_d,output_xy_d,a_d,b_d)\n",
    "        sigma_d = evaluation_xy_forward(s,t,sig, sigp, j*dS, n*dt, sig_d, sigp_d, ss_d, tt_d)\n",
    "#         print(sigma_d)\n",
    "        a_d = a_d.at[j].set(dt*(     sigma*sigma_d*j*j - 0.5*r_d*j     ))\n",
    "        b_d = b_d.at[j].set(dt*(-2.0*sigma*sigma_d*j*j           - r_d ))\n",
    "        c_d = c_d.at[j].set(dt*(     sigma*sigma_d*j*j + 0.5*r_d*j     ))\n",
    "\n",
    "    a_d = a_d.at[J].set(dt*( -r_d*J       ))   # enforce right-hand b.c.\n",
    "    b_d = b_d.at[J].set(dt*(  r_d*J - r_d ))\n",
    "\n",
    "    return trid.assemble(a_d,b_d,c_d)\n",
    "\n",
    "def BS_discretisation_reverse(J,n,dt,dS, r, s,t,sig,sigp,r_b, ss_b, tt_b, sig_b, sigp_b, D_b):\n",
    "    a_b, b_b, c_b = trid.disassemble(D_b)\n",
    "    \n",
    "    for j in range(J-1,-1,-1):\n",
    "        sigma = evaluation_xy(s,t,sig, sigp, j*dS, n*dt)\n",
    "        sigma_b = dt*sigma*j*j*( a_b[j] - 2.0*b_b[j] + c_b[j] )\n",
    "        #(x,y,u,output_xy,a,b, u_a_bar, u_y__bar, a_bar, b_bar, output_xy_bar, u_bar, u_ab_bar)\n",
    "        sig_b, sigp_b, ss_b, tt_b = \\\n",
    "            evaluation_xy_reverse(s,t,sig,sigp, j*dS, n*dt,\\\n",
    "                                jnp.array([0.,0.]),jnp.array([0.,0.]),ss_b,tt_b, sigp_b, sig_b, sigma_b)\n",
    "        r_b = r_b + dt*( - 0.5*j*a_b[j] - b_b[j] + 0.5*j*c_b[j] )\n",
    "\n",
    "    r_b = r_b + dt*( - J*a_b[J] + (J - 1.0)*b_b[J] )\n",
    "\n",
    "    return r_b, sig_b, sigp_b, ss_b, tt_b"
   ]
  },
  {
   "cell_type": "code",
   "execution_count": 498,
   "id": "cc77ef72",
   "metadata": {},
   "outputs": [
    {
     "data": {
      "text/plain": [
       "(Array(-13., dtype=float64),\n",
       " Array([[0., 0., 0., 0.],\n",
       "        [0., 0., 0., 0.],\n",
       "        [0., 0., 0., 0.],\n",
       "        [0., 0., 0., 0.]], dtype=float64),\n",
       " (Array([[0., 0., 0., 0.],\n",
       "         [0., 0., 0., 0.],\n",
       "         [0., 0., 0., 0.],\n",
       "         [0., 0., 0., 0.]], dtype=float64),\n",
       "  Array([[0., 0., 0., 0.],\n",
       "         [0., 0., 0., 0.],\n",
       "         [0., 0., 0., 0.],\n",
       "         [0., 0., 0., 0.]], dtype=float64),\n",
       "  Array([[0., 0., 0., 0.],\n",
       "         [0., 0., 0., 0.],\n",
       "         [0., 0., 0., 0.],\n",
       "         [0., 0., 0., 0.]], dtype=float64)),\n",
       " Array(0., dtype=float64),\n",
       " Array(0., dtype=float64))"
      ]
     },
     "execution_count": 498,
     "metadata": {},
     "output_type": "execute_result"
    }
   ],
   "source": [
    "r  = 0.05\n",
    "T  = 1.   # maturity\n",
    "S0 = 100. # S_0\n",
    "K  = 100. # strike\n",
    "\n",
    "M = 4\n",
    "s = jnp.linspace(0,2*S0,M,dtype=jnp.float64)\n",
    "t = jnp.linspace(0,T,M,dtype=jnp.float64)\n",
    "sig  = random.normal(sub,(M,M),dtype=jnp.float64)\n",
    "sigp = creation_xy(s,t,sig)\n",
    "\n",
    "J  = 64\n",
    "N  = 5\n",
    "dS = 2*S0/J\n",
    "dt = T/N\n",
    "n = 1\n",
    "\n",
    "ss_d = 0.\n",
    "tt_d = 0.\n",
    "sig_d = jnp.ones_like(sig)\n",
    "sigp_d = (sig_d,sig_d,sig_d)\n",
    "r_d = 1.\n",
    "D_d = BS_discretisation_forward(J,n,dt,dS, r, s,t,sig,sigp,r_d, sig_d, sigp_d, ss_d, tt_d)\n",
    "\n",
    "r_b = 0.\n",
    "ss_b = 0.\n",
    "tt_b = 0.\n",
    "sig_b = jnp.zeros_like(sig)\n",
    "sigp_b = (sig_b,sig_b,sig_b)\n",
    "D_b = jnp.ones_like(D_d)\n",
    "BS_discretisation_reverse(J,n,dt,dS, r, s,t,sig,sigp,r_b, ss_b, tt_b, sig_b, sigp_b, D_b)"
   ]
  },
  {
   "cell_type": "code",
   "execution_count": 323,
   "id": "2aeb1245",
   "metadata": {},
   "outputs": [
    {
     "name": "stdout",
     "output_type": "stream",
     "text": [
      "RHS:-13.000000\n",
      "LHS:-13.000000\n"
     ]
    }
   ],
   "source": [
    "#BS_discretisation(J,n,dt,dS, r, s,t,sig,sigp)\n",
    "# Forward mode \n",
    "sig_d = jnp.ones_like(sig)\n",
    "sigp_d = (sig_d,sig_d,sig_d)\n",
    "D_primal, D_d = jvp(BS_discretisation, (float(J),float(n),dt,dS, r, s,t,sig,sigp), \\\n",
    "                        (0.,0.,0.,0.,1.,jnp.zeros_like(s), jnp.zeros_like(t), sig_d,sigp_d))\n",
    "\n",
    "# Reverse mode (VJP)\n",
    "_, vjp_fun = vjp(BS_discretisation, J,n,dt,dS, r, s,t,sig,sigp)\n",
    "D_b = jnp.ones_like(D_primal)\n",
    "reverse_bbbb = vjp_fun(D_b)\n",
    "print('RHS:%f'%(dp(D_d,D_b)))\n",
    "print('LHS:%f'%(r_d*reverse_bbbb[4]+sum([dp(jnp.ones_like(f),reverse_bbbb[7])]+[dp(jnp.ones_like(f),i) for i in reverse_bbbb[8]])))"
   ]
  },
  {
   "cell_type": "code",
   "execution_count": 516,
   "id": "d2a11edd",
   "metadata": {},
   "outputs": [
    {
     "name": "stdout",
     "output_type": "stream",
     "text": [
      "\n",
      "forward sensitivity 50.894858 \n",
      "reverse sensitivity 50.894858 \n"
     ]
    }
   ],
   "source": [
    "r  = 0.05\n",
    "T  = 1   # maturity\n",
    "S0 = 100 # S_0\n",
    "K  = 100 # strike\n",
    "\n",
    "M = 10\n",
    "s = jnp.linspace(0,2*S0,M)\n",
    "t = jnp.linspace(0,T,M)\n",
    "sig  = random.normal(sub,(M,M))\n",
    "sigp = creation_xy(s,t,sig)\n",
    "\n",
    "J  = 64\n",
    "N  = 16\n",
    "dS = 2*S0/J\n",
    "dt = T/N\n",
    "\n",
    "\n",
    "def local_vol_PDE(r, s, t, sig, sigp):\n",
    "    S = jnp.linspace(0,2*S0,J+1) #  np.arange(J+1)*dS\n",
    "    u = jnp.maximum(S-K,0)\n",
    "\n",
    "    u_copy = jnp.zeros((J+1,N+1))  # save for reverse mode\n",
    "    u_copy = u_copy.at[:,N].set(u)\n",
    "    I   = trid.identity(J+1)\n",
    "\n",
    "    for n in range(N-1,-1,-1):\n",
    "        D   = BS_discretisation(J,n,dt,dS, r, s,t,sig,sigp)\n",
    "\n",
    "        A   = I - 0.5*D\n",
    "        B   = I + 0.5*D\n",
    "        v   = trid.multiply(B,u)\n",
    "        u   = trid.solve(A, v)\n",
    "        u_copy = u_copy.at[:,n].set(u)\n",
    "\n",
    "    P   = u[J//2]\n",
    "    return P\n",
    "\n",
    "# \"forward\" mode  (actually backward in time)\n",
    "r_d    = np.random.randn()\n",
    "sig_d  = random.normal(sub,(M,M))\n",
    "sigp_d = (random.normal(sub,(M,M)),random.normal(sub,(M,M)),random.normal(sub,(M,M)))\n",
    "\n",
    "P_primal, P_d = jvp(local_vol_PDE, (r, s, t, sig, sigp), \\\n",
    "                                      (r_d, jnp.zeros_like(s), jnp.zeros_like(t), sig_d, sigp_d))\n",
    "\n",
    "print('\\nforward sensitivity %f ' % P_d)\n",
    "\n",
    "# \"reverse\" mode  (actually forward in time)\n",
    "_, vjp_fun = vjp(local_vol_PDE, r, s, t, sig, sigp)\n",
    "P_b = jnp.ones_like(P_primal)\n",
    "reverse_b = vjp_fun(P_b)\n",
    "\n",
    "print('reverse sensitivity %f ' % \\\n",
    "      (r_d*reverse_b[0] + sum([dp(sig_d,reverse_b[3])]+\\\n",
    "                                 [dp(i,j) for i,j in zip(sigp_d,reverse_b[4])])))"
   ]
  },
  {
   "cell_type": "code",
   "execution_count": 517,
   "id": "486b07bb",
   "metadata": {},
   "outputs": [
    {
     "data": {
      "text/plain": [
       "Array(42.67614718, dtype=float64, weak_type=True)"
      ]
     },
     "execution_count": 517,
     "metadata": {},
     "output_type": "execute_result"
    }
   ],
   "source": [
    "reverse_b[0] #r_b"
   ]
  },
  {
   "cell_type": "code",
   "execution_count": 518,
   "id": "249ff636",
   "metadata": {},
   "outputs": [
    {
     "data": {
      "text/plain": [
       "Array([[-8.94085026e-14, -1.92354167e-09,  1.07587742e-02,\n",
       "         3.54304501e-01,  1.02712992e+00,  2.06939062e+00,\n",
       "         6.97979096e-01,  1.34008060e-01, -1.91632756e-03,\n",
       "        -1.13855211e-03],\n",
       "       [ 4.60910127e-11, -5.37718482e-05, -3.10530860e-02,\n",
       "        -5.59662073e-01, -2.51223166e-01, -2.24215146e-01,\n",
       "        -2.06536853e-01, -2.56968161e-01, -7.63395370e-02,\n",
       "        -3.88447101e-02],\n",
       "       [-2.09652986e-09, -5.50147911e-03, -2.33648746e-01,\n",
       "        -6.33648299e-01, -3.90589738e-01,  6.20679361e-02,\n",
       "        -1.22472878e-01,  2.66052213e-02, -2.55618064e-02,\n",
       "        -1.68144300e-03],\n",
       "       [-4.08636575e-08, -3.87422540e-03, -3.53498729e-02,\n",
       "         1.46958653e-01,  3.91772540e-01,  6.29959465e-01,\n",
       "         5.07566774e-02,  5.86204095e-01, -7.16396019e-03,\n",
       "        -4.61476969e-05],\n",
       "       [ 3.51428292e-08,  1.07258753e-03,  7.83552348e-02,\n",
       "         2.64525413e-01,  2.00657929e-01,  2.18310393e-01,\n",
       "         2.35031141e-01,  3.42048550e-02,  1.30574326e-03,\n",
       "        -5.64572147e-05],\n",
       "       [-3.22869326e-08, -4.64493474e-04, -7.80824195e-02,\n",
       "        -1.97920748e-01,  3.71945080e-02, -5.51447020e-01,\n",
       "         2.19766034e-01,  6.55162659e-02,  1.64937252e-03,\n",
       "        -9.49377326e-05],\n",
       "       [-9.20667318e-08, -7.09306256e-06, -1.01232670e-02,\n",
       "        -4.64573068e-01, -4.01911096e-01, -8.77175338e-01,\n",
       "         3.69453807e-02, -1.68367831e-02, -3.00764993e-03,\n",
       "        -1.10923608e-04],\n",
       "       [-9.19406129e-09, -3.86277292e-06,  9.97760352e-05,\n",
       "        -3.40383869e-02, -3.27206194e-01, -4.12332214e-01,\n",
       "         5.26658946e-01,  9.69284558e-03, -1.99594798e-04,\n",
       "        -4.07917086e-06],\n",
       "       [ 2.45905714e-11,  4.22911758e-07,  1.10466423e-04,\n",
       "        -9.08730214e-04, -7.62903987e-01, -2.89561414e-01,\n",
       "        -1.63665655e-01,  4.45645144e-03, -2.62307442e-07,\n",
       "         2.47534536e-08],\n",
       "       [ 2.47499391e-14,  1.23487595e-07,  1.55079687e-05,\n",
       "         5.90833309e-04, -3.82709964e-01, -1.94259094e-01,\n",
       "        -7.80554095e-02, -3.52728410e-03, -8.21460438e-08,\n",
       "        -1.66649452e-07]], dtype=float64)"
      ]
     },
     "execution_count": 518,
     "metadata": {},
     "output_type": "execute_result"
    }
   ],
   "source": [
    "reverse_b[3] #sig_b"
   ]
  },
  {
   "cell_type": "code",
   "execution_count": 519,
   "id": "e69ffabb",
   "metadata": {},
   "outputs": [],
   "source": [
    "def local_vol_PDE_forward(r, s, t, sig, sigp, u_d, r_d, sig_d, sigp_d, s_d, t_d):\n",
    "    S = jnp.linspace(0,2*S0,J+1) #  np.arange(J+1)*dS\n",
    "    u = jnp.maximum(S-K,0)\n",
    "\n",
    "    u_copy = jnp.zeros((J+1,N+1))  # save for reverse mode\n",
    "    u_copy = u_copy.at[:,N].set(u)\n",
    "    u_d_copy = u_d.copy()\n",
    "    I   = trid.identity(J+1)\n",
    "\n",
    "    for n in range(N-1,-1,-1):\n",
    "        D   = BS_discretisation(J,n,dt,dS, r, s,t,sig,sigp)\n",
    "        D_d = BS_discretisation_forward(J,n,dt,dS, r, s,t,sig,sigp,r_d, sig_d, sigp_d, s_d, t_d)\n",
    "\n",
    "\n",
    "        A   = I - 0.5*D\n",
    "        B   = I + 0.5*D\n",
    "        A_d =   - 0.5*D_d\n",
    "        B_d =   + 0.5*D_d\n",
    "        v   = trid.multiply(B,u)\n",
    "        v_d = trid.multiply(B,u_d) + trid.multiply(B_d,u)\n",
    "        u   = trid.solve(A, v)\n",
    "        u_d = trid.solve(A, v_d - trid.multiply(A_d,u))\n",
    "        u_copy = u_copy.at[:,n].set(u)\n",
    "\n",
    "    P_d = u_d[J//2]\n",
    "    return P_d\n",
    "\n",
    "def local_vol_PDE_reverse(r, s, t, sig, sigp,u_b, r_b, ss_b, tt_b, sig_b, sigp_b, P_b):\n",
    "    S = jnp.linspace(0,2*S0,J+1) #  np.arange(J+1)*dS\n",
    "    u = jnp.maximum(S-K,0)\n",
    "\n",
    "    u_copy = jnp.zeros((J+1,N+1))  # save for reverse mode\n",
    "    u_copy = u_copy.at[:,N].set(u)\n",
    "    I   = trid.identity(J+1)\n",
    "    A_list = []\n",
    "    B_list = []\n",
    "    \n",
    "\n",
    "    for n in range(N-1,-1,-1):\n",
    "        D   = BS_discretisation(J,n,dt,dS, r, s,t,sig,sigp)\n",
    "        A   = I - 0.5*D\n",
    "        B   = I + 0.5*D\n",
    "        A_list.append(A)\n",
    "        B_list.append(B)\n",
    "        v   = trid.multiply(B,u)\n",
    "        u   = trid.solve(A, v)\n",
    "        u_copy = u_copy.at[:,n].set(u)\n",
    "    \n",
    "    u_b = jnp.zeros_like(S)\n",
    "    u_b = u_b.at[J//2].set(P_b)\n",
    "\n",
    "    u = u_copy[:,0]\n",
    "    for n in range(0,N):\n",
    "        A = A_list[N-n-1]\n",
    "        B = B_list[N-n-1]\n",
    "        A_b = np.zeros_like(A)\n",
    "        B_b = np.zeros_like(B)\n",
    "        D_b = jnp.zeros_like(D_d)\n",
    "        v_b = trid.solve(trid.transpose(A), u_b)\n",
    "        A_b = A_b - trid.outer(v_b,u)\n",
    "        u = u_copy[:,n+1]\n",
    "        B_b = B_b + trid.outer(v_b,u)\n",
    "        u_b = trid.multiply(trid.transpose(B), v_b)\n",
    "        D_b = - 0.5*A_b + 0.5*B_b\n",
    "        tt_b = 0.\n",
    "        r_b, sig_b, sigp_b, ss_b, tt_b = \\\n",
    "        BS_discretisation_reverse(J,n,dt,dS, r, s,t,sig,sigp,r_b, ss_b, tt_b, sig_b, sigp_b, D_b)\n",
    "    \n",
    "    return r_b, sig_b, sigp_b"
   ]
  },
  {
   "cell_type": "code",
   "execution_count": 520,
   "id": "a8789847",
   "metadata": {},
   "outputs": [
    {
     "name": "stdout",
     "output_type": "stream",
     "text": [
      "forward sensitivity: \n"
     ]
    },
    {
     "data": {
      "text/plain": [
       "Array(50.8948583, dtype=float64)"
      ]
     },
     "execution_count": 520,
     "metadata": {},
     "output_type": "execute_result"
    }
   ],
   "source": [
    "u_d = jnp.zeros_like(S)\n",
    "ss_d = 0.\n",
    "tt_d = 0.\n",
    "print('forward sensitivity: ')\n",
    "local_vol_PDE_forward(r, s, t, sig, sigp, u_d, r_d, sig_d, sigp_d, ss_d, tt_d)"
   ]
  },
  {
   "cell_type": "code",
   "execution_count": 521,
   "id": "9a5c44cd",
   "metadata": {},
   "outputs": [
    {
     "name": "stdout",
     "output_type": "stream",
     "text": [
      "reverse sensitivity 50.894858 \n"
     ]
    }
   ],
   "source": [
    "r_b = 0.\n",
    "ss_b = 0.\n",
    "tt_b = 0.\n",
    "sig_b = jnp.zeros_like(sig)\n",
    "sigp_b = (sig_b,sig_b,sig_b)\n",
    "P_b = 1.\n",
    "reverse_b = local_vol_PDE_reverse(r, s, t, sig, sigp,u_b, r_b, ss_b, tt_b, sig_b, sigp_b, P_b)\n",
    "print('reverse sensitivity %f ' % \\\n",
    "      (r_d*reverse_b[0] + sum([dp(sig_d,reverse_b[1])]+\\\n",
    "                                 [dp(i,j) for i,j in zip(sigp_d,reverse_b[2])])))"
   ]
  },
  {
   "cell_type": "code",
   "execution_count": 522,
   "id": "c73d6426",
   "metadata": {},
   "outputs": [
    {
     "data": {
      "text/plain": [
       "Array(42.67614718, dtype=float64)"
      ]
     },
     "execution_count": 522,
     "metadata": {},
     "output_type": "execute_result"
    }
   ],
   "source": [
    "reverse_b[0]#r_b"
   ]
  },
  {
   "cell_type": "code",
   "execution_count": 523,
   "id": "3801709f",
   "metadata": {},
   "outputs": [
    {
     "data": {
      "text/plain": [
       "Array([[-8.94085026e-14, -1.92354167e-09,  1.07587742e-02,\n",
       "         3.54304501e-01,  1.02712992e+00,  2.06939062e+00,\n",
       "         6.97979096e-01,  1.34008060e-01, -1.91632756e-03,\n",
       "        -1.13855211e-03],\n",
       "       [ 4.60910127e-11, -5.37718482e-05, -3.10530860e-02,\n",
       "        -5.59662073e-01, -2.51223166e-01, -2.24215146e-01,\n",
       "        -2.06536853e-01, -2.56968161e-01, -7.63395370e-02,\n",
       "        -3.88447101e-02],\n",
       "       [-2.09652986e-09, -5.50147911e-03, -2.33648746e-01,\n",
       "        -6.33648299e-01, -3.90589738e-01,  6.20679361e-02,\n",
       "        -1.22472878e-01,  2.66052213e-02, -2.55618064e-02,\n",
       "        -1.68144300e-03],\n",
       "       [-4.08636575e-08, -3.87422540e-03, -3.53498729e-02,\n",
       "         1.46958653e-01,  3.91772540e-01,  6.29959465e-01,\n",
       "         5.07566774e-02,  5.86204095e-01, -7.16396019e-03,\n",
       "        -4.61476969e-05],\n",
       "       [ 3.51428292e-08,  1.07258753e-03,  7.83552348e-02,\n",
       "         2.64525413e-01,  2.00657929e-01,  2.18310393e-01,\n",
       "         2.35031141e-01,  3.42048550e-02,  1.30574326e-03,\n",
       "        -5.64572147e-05],\n",
       "       [-3.22869326e-08, -4.64493474e-04, -7.80824195e-02,\n",
       "        -1.97920748e-01,  3.71945080e-02, -5.51447020e-01,\n",
       "         2.19766034e-01,  6.55162659e-02,  1.64937252e-03,\n",
       "        -9.49377326e-05],\n",
       "       [-9.20667318e-08, -7.09306256e-06, -1.01232670e-02,\n",
       "        -4.64573068e-01, -4.01911096e-01, -8.77175338e-01,\n",
       "         3.69453807e-02, -1.68367831e-02, -3.00764993e-03,\n",
       "        -1.10923608e-04],\n",
       "       [-9.19406129e-09, -3.86277292e-06,  9.97760352e-05,\n",
       "        -3.40383869e-02, -3.27206194e-01, -4.12332214e-01,\n",
       "         5.26658946e-01,  9.69284558e-03, -1.99594798e-04,\n",
       "        -4.07917086e-06],\n",
       "       [ 2.45905714e-11,  4.22911758e-07,  1.10466423e-04,\n",
       "        -9.08730214e-04, -7.62903987e-01, -2.89561414e-01,\n",
       "        -1.63665655e-01,  4.45645144e-03, -2.62307448e-07,\n",
       "         2.47534607e-08],\n",
       "       [ 2.47499391e-14,  1.23487595e-07,  1.55079687e-05,\n",
       "         5.90833309e-04, -3.82709964e-01, -1.94259094e-01,\n",
       "        -7.80554095e-02, -3.52728410e-03, -8.21460451e-08,\n",
       "        -1.66649444e-07]], dtype=float64)"
      ]
     },
     "execution_count": 523,
     "metadata": {},
     "output_type": "execute_result"
    }
   ],
   "source": [
    "reverse_b[1]#sig_b"
   ]
  },
  {
   "cell_type": "markdown",
   "id": "cd8f82da",
   "metadata": {},
   "source": [
    "# local vol SDE"
   ]
  },
  {
   "cell_type": "code",
   "execution_count": 524,
   "id": "86f4c1fe",
   "metadata": {},
   "outputs": [],
   "source": [
    "s   = jnp.array([ 0. , 1. , 2.  , 3.  ])\n",
    "t   = jnp.array([ 0. , 0.33, 0.67, 1.])\n",
    "M = len(s)\n",
    "sig = random.normal(sub,(M,M))\n",
    "\n",
    "T  = 1\n",
    "N  = 10            # number of timesteps\n",
    "h  = T/N\n",
    "r  = 0.05\n",
    "S0 = 1.0\n",
    "K  = 0.5\n",
    "\n",
    "sigp   = creation_xy(s, t, sig)\n",
    "dW = jnp.sqrt(h)*random.normal(sub,(N,))\n",
    "\n",
    "def local_vol_SDE(S0, h, r, dW, s, t, sig, sigp):\n",
    "\n",
    "    S = S0\n",
    "\n",
    "    for n in range(0,N):\n",
    "        sigma   = evaluation_xy(s,t,sig,sigp, S, n*h)\n",
    "        S   = S  *( 1. + r*h + sigma*dW[n] )\n",
    "\n",
    "    P   = jnp.exp(-r*T)*jnp.maximum(0,S-K)\n",
    "    return P"
   ]
  },
  {
   "cell_type": "code",
   "execution_count": 525,
   "id": "ebbd7879",
   "metadata": {},
   "outputs": [
    {
     "name": "stdout",
     "output_type": "stream",
     "text": [
      "\n",
      "forward sensitivity -0.092720 \n",
      "reverse sensitivity -0.092720 \n"
     ]
    }
   ],
   "source": [
    "# \"forward\" mode  \n",
    "sig_d  = random.normal(sub,(M,M))\n",
    "sigp_d = (random.normal(sub,(M,M)),random.normal(sub,(M,M)),random.normal(sub,(M,M)))\n",
    "\n",
    "P_primal, P_d = jvp(local_vol_SDE, (S0, h, r, dW, s, t, sig, sigp), \\\n",
    "                            (0.,0.,0., jnp.zeros(N),jnp.zeros_like(s), jnp.zeros_like(t), sig_d, sigp_d))\n",
    "\n",
    "print('\\nforward sensitivity %f ' % P_d)\n",
    "\n",
    "# \"reverse\" mode  \n",
    "_, vjp_fun = vjp(local_vol_SDE, S0, h, r, dW, s, t, sig, sigp)\n",
    "P_b = jnp.ones_like(P_primal)\n",
    "reverse_b = vjp_fun(P_b)\n",
    "\n",
    "print('reverse sensitivity %f ' % \\\n",
    "      (sum([dp(sig_d,reverse_b[6])]+[dp(i,j) for i,j in zip(sigp_d,reverse_b[7])])))"
   ]
  },
  {
   "cell_type": "code",
   "execution_count": 526,
   "id": "06e6b450",
   "metadata": {},
   "outputs": [
    {
     "data": {
      "text/plain": [
       "Array([[-2.12418456e-04, -2.67333685e-01, -2.03454826e-06,\n",
       "         0.00000000e+00],\n",
       "       [ 5.10282048e-04,  1.58478693e-01,  4.05036881e-03,\n",
       "         0.00000000e+00],\n",
       "       [-1.21514782e-02, -1.34063359e-01,  5.06666467e-04,\n",
       "         0.00000000e+00],\n",
       "       [-3.89557666e-03, -7.38107212e-02, -1.05293250e-05,\n",
       "         0.00000000e+00]], dtype=float64)"
      ]
     },
     "execution_count": 526,
     "metadata": {},
     "output_type": "execute_result"
    }
   ],
   "source": [
    "reverse_b[6] #sig_b"
   ]
  },
  {
   "cell_type": "code",
   "execution_count": 527,
   "id": "13d46bcf",
   "metadata": {},
   "outputs": [
    {
     "data": {
      "text/plain": [
       "(Array([[-7.02785332e-05,  3.25034459e-03,  6.71064345e-07,\n",
       "          0.00000000e+00],\n",
       "        [ 1.59573756e-04,  1.84750185e-02, -1.31701915e-03,\n",
       "          0.00000000e+00],\n",
       "        [-3.81112938e-03,  2.25422230e-02, -1.64786228e-04,\n",
       "          0.00000000e+00],\n",
       "        [-1.23293944e-03,  7.64106350e-03,  3.46182923e-06,\n",
       "          0.00000000e+00]], dtype=float64),\n",
       " Array([[-1.60000108e-05, -1.18771489e-02, -2.16580944e-07,\n",
       "          0.00000000e+00],\n",
       "        [ 5.91010836e-05,  2.61247538e-02,  2.07227035e-04,\n",
       "          0.00000000e+00],\n",
       "        [-2.35248982e-04, -1.00172195e-02, -5.34490646e-05,\n",
       "          0.00000000e+00],\n",
       "        [ 3.51454220e-04,  6.59259935e-03,  6.55599478e-07,\n",
       "          0.00000000e+00]], dtype=float64),\n",
       " Array([[-5.29199026e-06,  2.34383249e-04,  7.14358819e-08,\n",
       "          0.00000000e+00],\n",
       "        [ 1.91186156e-05,  5.99007109e-04, -6.74119033e-05,\n",
       "          0.00000000e+00],\n",
       "        [-7.58066147e-05,  3.66314873e-04,  1.73856724e-05,\n",
       "          0.00000000e+00],\n",
       "        [ 1.11232847e-04, -6.91481122e-04, -2.15547858e-07,\n",
       "          0.00000000e+00]], dtype=float64))"
      ]
     },
     "execution_count": 527,
     "metadata": {},
     "output_type": "execute_result"
    }
   ],
   "source": [
    "reverse_b[7] #sigp_b"
   ]
  },
  {
   "cell_type": "code",
   "execution_count": 528,
   "id": "58bcce9d",
   "metadata": {},
   "outputs": [],
   "source": [
    "def local_vol_SDE_forward(S0, h, r, dW, s, t, sig, sigp, sig_d, sigp_d):\n",
    "\n",
    "    S = S0\n",
    "    S_d = jnp.zeros_like(S)\n",
    "    tt_d = 0.\n",
    "\n",
    "    for n in range(0,N):\n",
    "        sigma   = evaluation_xy(s,t,sig,sigp, S, n*h)\n",
    "        sigma_d = evaluation_xy_forward(s,t,sig, sigp, S, n*h, sig_d, sigp_d, S_d, tt_d)\n",
    "        S_d = S_d*( 1. + r*h + sigma*dW[n] ) + S*sigma_d*dW[n]\n",
    "        S   = S  *( 1. + r*h + sigma*dW[n] )\n",
    "\n",
    "    P_d = jnp.exp(-r*T)*jnp.heaviside(S-K,0.5)*S_d\n",
    "    return P_d\n",
    "\n",
    "def local_vol_SDE_reverse(S0, h, r, dW, s, t, sig, sigp, sig_b, sigp_b ,P_b):\n",
    "\n",
    "    S = S0\n",
    "    S_copy = jnp.zeros(N)\n",
    "\n",
    "    for n in range(0,N):\n",
    "        S_copy = S_copy.at[n].set(S)\n",
    "        sigma   = evaluation_xy(s,t,sig,sigp, S, n*h)\n",
    "        S   = S  *( 1. + r*h + sigma*dW[n] )\n",
    "\n",
    "    S_b    = jnp.exp(-r*T)*jnp.heaviside(S-K,0.5)*P_b\n",
    "    tt_b = 0.\n",
    "    \n",
    "    for n in range(N-1,-1,-1):\n",
    "        S = S_copy[n]\n",
    "        sigma   = evaluation_xy(s,t,sig,sigp, S, n*h)\n",
    "        sigma_b = S_b*S*dW[n]\n",
    "        S_b = S_b*( 1. + r*h + sigma*dW[n] )\n",
    "        sig_b, sigp_b, S_b, tt_b = \\\n",
    "            evaluation_xy_reverse(s,t,sig,sigp, S, n*h,\\\n",
    "                                jnp.array([0.,0.]),jnp.array([0.,0.]), S_b, tt_b, sigp_b, sig_b, sigma_b)\n",
    "    \n",
    "    return sig_b, sigp_b"
   ]
  },
  {
   "cell_type": "code",
   "execution_count": 450,
   "id": "86482d69",
   "metadata": {},
   "outputs": [],
   "source": [
    "def local_vol_SDE_reverse(S0, h, r, dW, s, t, sig, sigp, sig_b, sigp_b ,P_b):\n",
    "\n",
    "    S = S0\n",
    "    S_copy = jnp.zeros(N)\n",
    "\n",
    "    for n in range(0,N):\n",
    "        S_copy = S_copy.at[n].set(S)\n",
    "        sigma   = evaluation_xy(s,t,sig,sigp, S, n*h)\n",
    "        S   = S  *( 1. + r*h + sigma*dW[n] )\n",
    "\n",
    "    S_b    = jnp.exp(-r*T)*jnp.heaviside(S-K,0.5)*P_b\n",
    "    tt_b = 0.\n",
    "    \n",
    "    for n in range(N-1,-1,-1):\n",
    "        S = S_copy[n]\n",
    "        sigma   = evaluation_xy(s,t,sig,sigp, S, n*h)\n",
    "        sigma_b = S_b*S*dW[n]\n",
    "        S_b = S_b*( 1. + r*h + sigma*dW[n] )\n",
    "        _, vjp_fun = vjp(evaluation_xy, s,t,sig,sigp, S, n*h)\n",
    "        reverse_b = vjp_fun(sigma_b)\n",
    "#         sig_b, sigp_b, S_b, tt_b = \\\n",
    "#             evaluation_xy_reverse(s,t,sig,sigp, S, n*h,\\\n",
    "#                                 jnp.array([0.,0.]),jnp.array([0.,0.]), S_b, tt_b, sigp_b, sig_b, sigma_b)\n",
    "        sig_b += reverse_b[2]\n",
    "        sigp_b = (sigp_b[0]+reverse_b[3][0],sigp_b[1]+reverse_b[3][1],sigp_b[2]+reverse_b[3][2])\n",
    "        S_b += reverse_b[4] \n",
    "        tt_b += reverse_b[5]\n",
    "    \n",
    "    return sig_b, sigp_b"
   ]
  },
  {
   "cell_type": "code",
   "execution_count": 531,
   "id": "9231ccec",
   "metadata": {},
   "outputs": [
    {
     "name": "stdout",
     "output_type": "stream",
     "text": [
      "forward sensitivity: \n"
     ]
    },
    {
     "data": {
      "text/plain": [
       "Array(-0.0927205, dtype=float64)"
      ]
     },
     "execution_count": 531,
     "metadata": {},
     "output_type": "execute_result"
    }
   ],
   "source": [
    "print('forward sensitivity: ')\n",
    "local_vol_SDE_forward(S0, h, r, dW, s, t, sig, sigp, sig_d, sigp_d)"
   ]
  },
  {
   "cell_type": "code",
   "execution_count": 532,
   "id": "df38cde5",
   "metadata": {},
   "outputs": [
    {
     "name": "stdout",
     "output_type": "stream",
     "text": [
      "reverse sensitivity -0.092720 \n"
     ]
    }
   ],
   "source": [
    "sig_b = jnp.zeros_like(sig)\n",
    "sigp_b = (sig_b,sig_b,sig_b)\n",
    "# P_b = 1.\n",
    "reverse_b = local_vol_SDE_reverse(S0, h, r, dW, s, t, sig, sigp, sig_b, sigp_b ,P_b)\n",
    "print('reverse sensitivity %f ' % \\\n",
    "      (sum([dp(sig_d,reverse_b[0])]+[dp(i,j) for i,j in zip(sigp_d,reverse_b[1])])))"
   ]
  },
  {
   "cell_type": "code",
   "execution_count": 533,
   "id": "2b362177",
   "metadata": {},
   "outputs": [
    {
     "data": {
      "text/plain": [
       "Array([[-2.12418456e-04, -2.67333685e-01, -2.03454826e-06,\n",
       "         0.00000000e+00],\n",
       "       [ 5.10282048e-04,  1.58478693e-01,  4.05036881e-03,\n",
       "         0.00000000e+00],\n",
       "       [-1.21514782e-02, -1.34063359e-01,  5.06666467e-04,\n",
       "         0.00000000e+00],\n",
       "       [-3.89557666e-03, -7.38107212e-02, -1.05293250e-05,\n",
       "         0.00000000e+00]], dtype=float64)"
      ]
     },
     "execution_count": 533,
     "metadata": {},
     "output_type": "execute_result"
    }
   ],
   "source": [
    "reverse_b[0] #sig_b"
   ]
  },
  {
   "cell_type": "code",
   "execution_count": 534,
   "id": "bf5cd921",
   "metadata": {},
   "outputs": [
    {
     "data": {
      "text/plain": [
       "(Array([[-7.02785332e-05,  3.25034459e-03,  6.71064345e-07,\n",
       "          0.00000000e+00],\n",
       "        [ 1.59573756e-04,  1.84750185e-02, -1.31701915e-03,\n",
       "          0.00000000e+00],\n",
       "        [-3.81112938e-03,  2.25422230e-02, -1.64786228e-04,\n",
       "          0.00000000e+00],\n",
       "        [-1.23293944e-03,  7.64106350e-03,  3.46182923e-06,\n",
       "          0.00000000e+00]], dtype=float64),\n",
       " Array([[-1.60000108e-05, -1.18771489e-02, -2.16580944e-07,\n",
       "          0.00000000e+00],\n",
       "        [ 5.91010836e-05,  2.61247538e-02,  2.07227035e-04,\n",
       "          0.00000000e+00],\n",
       "        [-2.35248982e-04, -1.00172195e-02, -5.34490646e-05,\n",
       "          0.00000000e+00],\n",
       "        [ 3.51454220e-04,  6.59259935e-03,  6.55599478e-07,\n",
       "          0.00000000e+00]], dtype=float64),\n",
       " Array([[-5.29199026e-06,  2.34383249e-04,  7.14358819e-08,\n",
       "          0.00000000e+00],\n",
       "        [ 1.91186156e-05,  5.99007109e-04, -6.74119033e-05,\n",
       "          0.00000000e+00],\n",
       "        [-7.58066147e-05,  3.66314873e-04,  1.73856724e-05,\n",
       "          0.00000000e+00],\n",
       "        [ 1.11232847e-04, -6.91481122e-04, -2.15547858e-07,\n",
       "          0.00000000e+00]], dtype=float64))"
      ]
     },
     "execution_count": 534,
     "metadata": {},
     "output_type": "execute_result"
    }
   ],
   "source": [
    "reverse_b[1] #sigp_b"
   ]
  },
  {
   "cell_type": "code",
   "execution_count": null,
   "id": "a09ad64c",
   "metadata": {},
   "outputs": [],
   "source": []
  }
 ],
 "metadata": {
  "kernelspec": {
   "display_name": "Python 3 (ipykernel)",
   "language": "python",
   "name": "python3"
  },
  "language_info": {
   "codemirror_mode": {
    "name": "ipython",
    "version": 3
   },
   "file_extension": ".py",
   "mimetype": "text/x-python",
   "name": "python",
   "nbconvert_exporter": "python",
   "pygments_lexer": "ipython3",
   "version": "3.11.8"
  },
  "toc": {
   "base_numbering": 1,
   "nav_menu": {},
   "number_sections": true,
   "sideBar": true,
   "skip_h1_title": false,
   "title_cell": "Table of Contents",
   "title_sidebar": "Contents",
   "toc_cell": false,
   "toc_position": {},
   "toc_section_display": true,
   "toc_window_display": false
  }
 },
 "nbformat": 4,
 "nbformat_minor": 5
}
